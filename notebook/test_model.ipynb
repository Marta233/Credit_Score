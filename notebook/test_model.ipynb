{
 "cells": [
  {
   "cell_type": "code",
   "execution_count": 1,
   "metadata": {},
   "outputs": [],
   "source": [
    "import sys\n",
    "import pandas as pd\n",
    "sys.path.insert(0, '/10 A KAI 2/Week6/Credit_Scoring/')"
   ]
  },
  {
   "cell_type": "code",
   "execution_count": 2,
   "metadata": {},
   "outputs": [],
   "source": [
    "from Script.test_model import predict_probabilities"
   ]
  },
  {
   "cell_type": "code",
   "execution_count": 3,
   "metadata": {},
   "outputs": [],
   "source": [
    "data = pd.read_csv('../Data/test_data.csv', index_col=0)\n",
    "model_path = 'random_forest_model.pkl'  # Update with your saved model path"
   ]
  },
  {
   "cell_type": "code",
   "execution_count": 4,
   "metadata": {},
   "outputs": [
    {
     "name": "stdout",
     "output_type": "stream",
     "text": [
      "Predicted Probabilities for Class 1:\n",
      "         CustomerId  Prob_Class_1\n",
      "0    CustomerId_718      1.000000\n",
      "1   CustomerId_2587      0.065939\n",
      "2   CustomerId_1478      0.001667\n",
      "3   CustomerId_3650      1.000000\n",
      "4   CustomerId_4101      0.000000\n",
      "5   CustomerId_3868      0.081286\n",
      "6   CustomerId_1129      0.000000\n",
      "7   CustomerId_1485      1.000000\n",
      "8    CustomerId_907      0.000000\n",
      "9   CustomerId_2738      0.995000\n",
      "10  CustomerId_4872      0.504111\n",
      "11  CustomerId_1768      0.881857\n",
      "12   CustomerId_335      1.000000\n",
      "13   CustomerId_446      1.000000\n",
      "14  CustomerId_1604      1.000000\n",
      "15  CustomerId_4071      0.000000\n",
      "16  CustomerId_1256      0.002267\n",
      "17  CustomerId_7419      0.000000\n",
      "18     CustomerId_3      0.000000\n",
      "19   CustomerId_824      0.000000\n"
     ]
    }
   ],
   "source": [
    "predicted_probabilities = predict_probabilities(data, model_path)"
   ]
  },
  {
   "cell_type": "code",
   "execution_count": null,
   "metadata": {},
   "outputs": [],
   "source": []
  }
 ],
 "metadata": {
  "kernelspec": {
   "display_name": "venv",
   "language": "python",
   "name": "python3"
  },
  "language_info": {
   "codemirror_mode": {
    "name": "ipython",
    "version": 3
   },
   "file_extension": ".py",
   "mimetype": "text/x-python",
   "name": "python",
   "nbconvert_exporter": "python",
   "pygments_lexer": "ipython3",
   "version": "3.11.2"
  }
 },
 "nbformat": 4,
 "nbformat_minor": 2
}
